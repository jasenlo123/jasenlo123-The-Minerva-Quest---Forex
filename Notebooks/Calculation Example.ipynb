{
 "cells": [
  {
   "cell_type": "code",
   "execution_count": 46,
   "metadata": {},
   "outputs": [],
   "source": [
    "''' import relevant libaries for manipulating data'''\n",
    "import pandas as pd\n",
    "\n",
    "''' import relevant libaries for getting data'''\n",
    "import coinoxr\n",
    "from coinoxr import Historical\n",
    "from coinoxr import Currency\n",
    "from coinoxr.requestor import Requestor\n",
    "\n",
    "#hiding my own openexchangerate API key!\n",
    "coinoxr.app_id = \"//\""
   ]
  },
  {
   "cell_type": "markdown",
   "metadata": {},
   "source": [
    "# Get Rates"
   ]
  },
  {
   "cell_type": "code",
   "execution_count": 20,
   "metadata": {},
   "outputs": [],
   "source": [
    "_17 = Historical().get(\"2017-12-31\")\n",
    "_18 = Historical().get(\"2018-12-31\")\n",
    "_19 = Historical().get(\"2019-12-31\")\n",
    "_20 = Historical().get(\"2020-12-31\")\n",
    "\n",
    "responses = [_17.body['rates']\n",
    "             ,_18.body['rates']\n",
    "             ,_19.body['rates']\n",
    "             ,_20.body['rates']]\n",
    "\n",
    "#includes housing, student services, tuition and manifest (last sem)\n",
    "#excludes security deposits, insurance payments, etc.\n",
    "sem_rates = [24450, 24950, 25950, 25950]"
   ]
  },
  {
   "cell_type": "markdown",
   "metadata": {},
   "source": [
    "# Get Inflation Data"
   ]
  },
  {
   "cell_type": "code",
   "execution_count": 30,
   "metadata": {},
   "outputs": [
    {
     "data": {
      "text/plain": [
       "Country    Brazil\n",
       "2017          2.9\n",
       "2018          3.7\n",
       "2019          4.3\n",
       "2020            2\n",
       "Name: 23, dtype: object"
      ]
     },
     "execution_count": 30,
     "metadata": {},
     "output_type": "execute_result"
    }
   ],
   "source": [
    "#https://www.imf.org/external/datamapper/PCPIEPCH@WEO/WEOWORLD\n",
    "\n",
    "#enter data\n",
    "inflation_df =  pd.read_csv(\"data/imf_inflation.csv\")\n",
    "\n",
    "inflation_df.iloc[23]"
   ]
  },
  {
   "cell_type": "code",
   "execution_count": 39,
   "metadata": {},
   "outputs": [],
   "source": [
    "#Y2020 cost in 2020 USD\n",
    "Y2020_USD = float(sem_rates[-1])\n",
    "\n",
    "#USD Forex Conversion to 2020 BRL\n",
    "forex20_USD_BRL = float(_20.body['rates']['BRL'])\n",
    "\n",
    "#The end of period consumer price index (CPI) is a measure of a country's \n",
    "#general level of prices based on the cost of a typical basket of consumer \n",
    "#goods and services at the end of a given period. \n",
    "#The rate of inflation is the percent change in the end of period CPI.\n",
    "BRL_cpi17 = 100 #base year is 2017\n",
    "BRL_cpi18 = (float(inflation_df.iloc[23]['2018'])*BRL_cpi17/100)+BRL_cpi17\n",
    "BRL_cpi19 = (float(inflation_df.iloc[23]['2019'])*BRL_cpi18/100)+BRL_cpi18\n",
    "BRL_cpi20 = (float(inflation_df.iloc[23]['2020'])*BRL_cpi19/100)+BRL_cpi19\n",
    "\n",
    "#USD Forex Conversion to 2017 BRL\n",
    "forex17_USD_BRL = float(_17.body['rates']['BRL'])"
   ]
  },
  {
   "cell_type": "code",
   "execution_count": 45,
   "metadata": {},
   "outputs": [
    {
     "name": "stdout",
     "output_type": "stream",
     "text": [
      "Y2020 cost in 2020 USD → Forex Conversion to 2020 BRL\n",
      "25950.0 * 5.1936 = 134773.92\n",
      "\n",
      "R$134,773 (2020 BRL) → Inflation Adjustment to 2017 BRL\n",
      "134773.92 / 110.322282 * 100 = 122163.8254364608\n",
      "\n",
      "R$122,163 (2017 BRL) → Forex Conversion to 2017 USD\n",
      "122163.8254364608 / 3.311517 = 36890.59287222769\n"
     ]
    }
   ],
   "source": [
    "print(\"Y2020 cost in 2020 USD → Forex Conversion to 2020 BRL\")\n",
    "print(f'{Y2020_USD} * {forex20_USD_BRL} = {Y2020_USD * forex20_USD_BRL}')\n",
    "Y2020BRL = Y2020_USD * forex20_USD_BRL\n",
    "print()\n",
    "\n",
    "print(\"R$134,773 (2020 BRL) → Inflation Adjustment to 2017 BRL\")\n",
    "print(f'{Y2020BRL} / {BRL_cpi20} * {BRL_cpi17} = {Y2020BRL/ BRL_cpi20 * BRL_cpi17}')\n",
    "Y2017BRL = Y2020BRL/ BRL_cpi20 * BRL_cpi17\n",
    "print()\n",
    "\n",
    "print(\"R$122,163 (2017 BRL) → Forex Conversion to 2017 USD\")\n",
    "print(f'{Y2017BRL} / {forex17_USD_BRL} = {Y2017BRL / forex17_USD_BRL}')\n"
   ]
  }
 ],
 "metadata": {
  "kernelspec": {
   "display_name": "Python 3",
   "language": "python",
   "name": "python3"
  },
  "language_info": {
   "codemirror_mode": {
    "name": "ipython",
    "version": 3
   },
   "file_extension": ".py",
   "mimetype": "text/x-python",
   "name": "python",
   "nbconvert_exporter": "python",
   "pygments_lexer": "ipython3",
   "version": "3.7.6"
  }
 },
 "nbformat": 4,
 "nbformat_minor": 4
}
